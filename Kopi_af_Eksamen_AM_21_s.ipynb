{
  "nbformat": 4,
  "nbformat_minor": 0,
  "metadata": {
    "colab": {
      "name": "Kopi af Eksamen AM 21 - s.ipynb",
      "provenance": [],
      "collapsed_sections": [],
      "include_colab_link": true
    },
    "kernelspec": {
      "name": "python3",
      "display_name": "Python 3"
    },
    "language_info": {
      "name": "python"
    }
  },
  "cells": [
    {
      "cell_type": "markdown",
      "metadata": {
        "id": "view-in-github",
        "colab_type": "text"
      },
      "source": [
        "<a href=\"https://colab.research.google.com/github/Zielk123/Eksamener-002/blob/main/Kopi_af_Eksamen_AM_21_s.ipynb\" target=\"_parent\"><img src=\"https://colab.research.google.com/assets/colab-badge.svg\" alt=\"Open In Colab\"/></a>"
      ]
    },
    {
      "cell_type": "markdown",
      "metadata": {
        "id": "jQQcFjWO_OPx"
      },
      "source": [
        "# Eksamen: Anvendt Matematik\n",
        "\n",
        "Opgaven har 2 dele. Lineær algebra og calculus.\n",
        "\n",
        "\n",
        "#### Rules of the game:\n",
        "\n",
        "- Don't panic! - Hvis koden ikke virker (men virkede før). Gå tilbage, og kør oppefra ned. Også en god ide at tjekke, at koden er fejlfri ved at gøre denne øvelse undervejs.\n",
        "- De fleste kodefejl er dumme stavefejl. Vær omhyggelig med kommaer, punkter etc.\n",
        "- Hvis der er noget, som slet ikke kan løses, så kan du bare kommentere ud med `#`\n",
        "- Brug objektnavne, der blev defineret i opgaven\n",
        "- Der afleveres som 👉 `ipynb` (**ikke PDF!**)"
      ]
    },
    {
      "cell_type": "code",
      "metadata": {
        "id": "80zZyD9i0QF7"
      },
      "source": [
        "# importer pakker\n",
        "import sympy as sp\n",
        "from sympy import *\n",
        "import numpy as np\n",
        "np.set_printoptions(suppress=True)\n",
        "from scipy import linalg\n",
        "import matplotlib\n",
        "import matplotlib.pyplot as plt\n"
      ],
      "execution_count": 250,
      "outputs": []
    },
    {
      "cell_type": "markdown",
      "metadata": {
        "id": "7J2qIFxT_YNO"
      },
      "source": [
        "## Del 1: Lineær Algebra - Ninja Grind\n",
        "\n",
        "![](https://source.unsplash.com/X4RJG4aNi8o)\n",
        "\n",
        "Den lokale manager for kaffekæden \"Ninja Grind\" vil gerne finde ud af hvor mange glas/krus Latte og Luksus-Cappuccino der skal produceres hver dag givet de standard-leveringer af mælk og espressobønner, som kan garanteres pt.\n",
        "\n",
        "Der er ansat en fultids-barista (8 timer/dag).\n",
        "Der kan bruges 14.4 liter mælk og 3 liter espresso om dagen.\n",
        "\n",
        "#### Priser:\n",
        "- Latte: 43dkk\n",
        "- Luksus cappuccino: 54DKK\n",
        "\n",
        "#### Fordeling af inputs:\n",
        "\n",
        "1.   Espresso:\n",
        "    *  43 ml / latte\n",
        "    *  86 ml / luksus cappuccino\n",
        "2.   Mælk:\n",
        "    *  292 ml / latte\n",
        "    *  333 ml / luksus cappuccino\n",
        "3.   Barista arbejde:\n",
        "    *  0.08 timer / latte\n",
        "    *  0.12 timer / luksus cappuccino\n",
        "\n",
        "\n",
        "\n",
        "\n",
        "  c = cappucino\n",
        "  l = Latte\n"
      ]
    },
    {
      "cell_type": "code",
      "metadata": {
        "id": "ty6GAl7N0gy4"
      },
      "source": [
        "# 1.1\n",
        "# Opstil ligninger, som beskriver vores optimeringsproblem i SymPy\n",
        "# Brug symboler l (latte) og c (cappuccino)\n",
        "\n",
        "# definer symboler\n",
        "c, l = symbols('c l')\n",
        "\n",
        "# definer ligninger\n",
        "eq1 = Eq(43*l + 86*c, 3000) #Espresso\n",
        "eq2 = Eq(292*l + 333*c, 14000) #Mælk \n",
        "eq3 = Eq(0.08*l + 0.12*c, 8) #Arbejdstimer"
      ],
      "execution_count": 251,
      "outputs": []
    },
    {
      "cell_type": "code",
      "metadata": {
        "id": "kRjg1QG9156Y",
        "colab": {
          "base_uri": "https://localhost:8080/"
        },
        "outputId": "37d98022-2906-456a-e8bf-bc39f7ac80c5"
      },
      "source": [
        "# print de 3 ligninger (1 cell / ligning)\n",
        "eq1\n",
        "print(eq1)"
      ],
      "execution_count": 252,
      "outputs": [
        {
          "output_type": "stream",
          "text": [
            "Eq(86*c + 43*l, 3000)\n"
          ],
          "name": "stdout"
        }
      ]
    },
    {
      "cell_type": "code",
      "metadata": {
        "id": "sfpEewni19uH",
        "colab": {
          "base_uri": "https://localhost:8080/"
        },
        "outputId": "6318df4d-160e-4cb8-e26e-d236e9e73c40"
      },
      "source": [
        "eq2\n",
        "print(eq2)"
      ],
      "execution_count": 253,
      "outputs": [
        {
          "output_type": "stream",
          "text": [
            "Eq(333*c + 292*l, 14000)\n"
          ],
          "name": "stdout"
        }
      ]
    },
    {
      "cell_type": "code",
      "metadata": {
        "id": "Yy-x9UH11-N1",
        "colab": {
          "base_uri": "https://localhost:8080/"
        },
        "outputId": "b3e489e1-23ba-4958-f3b6-259c752897ef"
      },
      "source": [
        "eq3\n",
        "print(eq3)"
      ],
      "execution_count": 254,
      "outputs": [
        {
          "output_type": "stream",
          "text": [
            "Eq(0.12*c + 0.08*l, 8)\n"
          ],
          "name": "stdout"
        }
      ]
    },
    {
      "cell_type": "code",
      "metadata": {
        "id": "8qztas80wqD_"
      },
      "source": [
        "# 1.2.1 - Grafisk løsning\n",
        "# plot de 3 funktioner med Latte på x-aksen og Cappuccino på y-aksen\n",
        "\n",
        "# Brug np.linspace til at generere 100 værdier mellem 0 og 100 som l_plot\n",
        "\n",
        "l_plot = np.linspace(0, 100, num=100)\n",
        "\n",
        "# obskriv ligninger til at beregne c-værdier(c_plot_1, c_plot_2, c_plot_3)\n",
        "c_plot_1=(-0.5*l_plot)+34.88\n",
        "c_plot_2=(-0.88*l_plot)+43.04\n",
        "c_plot_3=(-0.67*l_plot)+69.36\n",
        "# (rundet til 2 decimaler)"
      ],
      "execution_count": 255,
      "outputs": []
    },
    {
      "cell_type": "code",
      "metadata": {
        "id": "QNh-qMq01_3g",
        "colab": {
          "base_uri": "https://localhost:8080/",
          "height": 301
        },
        "outputId": "438a882d-088a-4792-8c72-59632e69a4bc"
      },
      "source": [
        "# 1.2.2\n",
        "# Plot, Espresso (red), Mælk (gold), Arbejde (blue)\n",
        "c=plt.axis([0, 110, 0, 80])\n",
        "plt.xlabel('Latte')\n",
        "plt.ylabel('Luksus Cappuccino')\n",
        "\n",
        "c_plot_1=(-0.5*l_plot)+34.88\n",
        "c_plot_2=(-0.88*l_plot)+43.04\n",
        "c_plot_3=(-0.67*l_plot)+69.36\n",
        "\n",
        "plt.plot(c_plot_1, l_plot, color='red')\n",
        "plt.plot(c_plot_2, l_plot, color='gold')\n",
        "plt.plot(c_plot_3, l_plot, color='blue')"
      ],
      "execution_count": 256,
      "outputs": [
        {
          "output_type": "execute_result",
          "data": {
            "text/plain": [
              "[<matplotlib.lines.Line2D at 0x7f2d211ed210>]"
            ]
          },
          "metadata": {
            "tags": []
          },
          "execution_count": 256
        },
        {
          "output_type": "display_data",
          "data": {
            "image/png": "[encoded data removed]",
            "text/plain": [
              "<Figure size 432x288 with 1 Axes>"
            ]
          },
          "metadata": {
            "tags": [],
            "needs_background": "light"
          }
        }
      ]
    },
    {
      "cell_type": "markdown",
      "metadata": {
        "id": "fZpjcfmi_IOk"
      },
      "source": [
        "Hvor mange Latte / Cappuccino skal der produceres ved optimal udnyttelse af ingredienser (ikke præcise tal)? (1 svar)\n",
        "\n",
        "\n",
        "1.   30 latte / 19 cappuccino\n",
        "2.   ~23 af hver\n",
        "3.   50 latte / 30 cappuccino\n",
        "\n"
      ]
    },
    {
      "cell_type": "code",
      "metadata": {
        "id": "5e5HCNGcAjE3"
      },
      "source": [
        "# 1.2.3\n",
        "# Skriv dit svar som tal her f.eks s1 = 5\n",
        "s1 = 2"
      ],
      "execution_count": 257,
      "outputs": []
    },
    {
      "cell_type": "markdown",
      "metadata": {
        "id": "dp2HZYXsBJ0z"
      },
      "source": [
        "Hvad kan man sige om arbejdstimernes \"rolle\" i denne kontekst - dvs. ikke teoretisk men givet vores espresso og mælke forsyning? (1 svar)\n",
        "\n",
        "1.   Hvis der var flere arbejdstimer, kunne der produceres mere.\n",
        "2.   Vores barista kan lave omkring 100 latte og næsten 70 cappuccino om dagen.\n",
        "3.   Baristaen har mere end nok tid til at producere den optimale mængde af latte og cappuccino givet de ingredienser som der er til rådighed.\n"
      ]
    },
    {
      "cell_type": "code",
      "metadata": {
        "id": "zjWLIjLyK8Gg"
      },
      "source": [
        "# 1.2.4\n",
        "# Skriv dit svar som tal her\n",
        "s2 = 3"
      ],
      "execution_count": 258,
      "outputs": []
    },
    {
      "cell_type": "markdown",
      "metadata": {
        "id": "gx1Gh7NMHOWB"
      },
      "source": [
        "#### Rækkeoperationer\n",
        "I denne opgave skal du bruge rækkeoperationer til at finde løsningen.\n",
        "\n",
        "1.   Du skal først definere en augmenteret matrix som np.array der repræsenterer de første 2 ligninger (mælk og espresso). \n",
        "2.   Derefter skal du bruge rækkeoperationer (kode!!!) for at omskrive til reduceret trappeform (reduceret række-echelon form).\n",
        "\n",
        "f.eks.: `augmented[0] = augmented[0]/augmented[0,0]`\n",
        "\n",
        "Til sidst har din matrix denne form: \n",
        "\n",
        "$$\\left[\\begin{array}{rr|r}\n",
        "1 & 0 & ? \\\\ \n",
        "0 & 1 & ?\n",
        "\\end{array}\\right]$$\n",
        "\n",
        "3. Her vil du kunne aflæse resultatet i søjlevektoren på højre sidde.\n",
        "\n"
      ]
    },
    {
      "cell_type": "code",
      "metadata": {
        "id": "d8soqF7655p_"
      },
      "source": [
        "# 1.3.1\n",
        "\n",
        "## definer augmenteret matrix\n",
        "\n",
        "augmented=np.asarray([\n",
        "                         [86, 43, 3000],\n",
        "                         [333, 292, 14000]\n",
        "])\n",
        "\n",
        "\n"
      ],
      "execution_count": 270,
      "outputs": []
    },
    {
      "cell_type": "code",
      "metadata": {
        "id": "JDZlI-py6RFw"
      },
      "source": [
        "# 1.3.2\n",
        "\n",
        "# Brug rækkeoperationer (så mange som du har brug for) for at omskrive til reduceret trappeform\n",
        "# Her er den første operation, som du kan bruge\n",
        "augmented[0] = augmented[0]/augmented[0,0]"
      ],
      "execution_count": 260,
      "outputs": []
    },
    {
      "cell_type": "code",
      "metadata": {
        "id": "d1duAVS2L3-2",
        "colab": {
          "base_uri": "https://localhost:8080/"
        },
        "outputId": "5252c91c-722b-4e55-90ce-0a4a4156624e"
      },
      "source": [
        "# OBS: Det er en god ide at tjekke din matrix undervejs - du kan tilføje en celle, vise matrix \n",
        "# (bare skriv \"augmented\" og udfør og slette igen...)\n",
        "\n",
        "augmented"
      ],
      "execution_count": 271,
      "outputs": [
        {
          "output_type": "execute_result",
          "data": {
            "text/plain": [
              "array([[   86,    43,  3000],\n",
              "       [  333,   292, 14000]])"
            ]
          },
          "metadata": {
            "tags": []
          },
          "execution_count": 271
        }
      ]
    },
    {
      "cell_type": "code",
      "metadata": {
        "colab": {
          "base_uri": "https://localhost:8080/"
        },
        "id": "sPPVlDEtvAYU",
        "outputId": "d1133ac8-f8f7-4f7e-9658-1159fb847409"
      },
      "source": [
        "augmented[0]=augmented[0]*333\n",
        "augmented[1]=augmented[1]*86\n",
        "augmented"
      ],
      "execution_count": 272,
      "outputs": [
        {
          "output_type": "execute_result",
          "data": {
            "text/plain": [
              "array([[  28638,   14319,  999000],\n",
              "       [  28638,   25112, 1204000]])"
            ]
          },
          "metadata": {
            "tags": []
          },
          "execution_count": 272
        }
      ]
    },
    {
      "cell_type": "code",
      "metadata": {
        "colab": {
          "base_uri": "https://localhost:8080/"
        },
        "id": "nmZZuCyczpWv",
        "outputId": "e6c4167b-e4bc-4193-9fe6-85b3b218d4ea"
      },
      "source": [
        "augmented[1]=augmented[1]-augmented[0]\n",
        "augmented"
      ],
      "execution_count": 273,
      "outputs": [
        {
          "output_type": "execute_result",
          "data": {
            "text/plain": [
              "array([[ 28638,  14319, 999000],\n",
              "       [     0,  10793, 205000]])"
            ]
          },
          "metadata": {
            "tags": []
          },
          "execution_count": 273
        }
      ]
    },
    {
      "cell_type": "code",
      "metadata": {
        "colab": {
          "base_uri": "https://localhost:8080/"
        },
        "id": "kCDodFHkzpa3",
        "outputId": "3f165791-256e-4dc4-84ad-2c5b2f802f2a"
      },
      "source": [
        "augmented_1=augmented[[1,0],:]\n",
        "augmented_1"
      ],
      "execution_count": 274,
      "outputs": [
        {
          "output_type": "execute_result",
          "data": {
            "text/plain": [
              "array([[     0,  10793, 205000],\n",
              "       [ 28638,  14319, 999000]])"
            ]
          },
          "metadata": {
            "tags": []
          },
          "execution_count": 274
        }
      ]
    },
    {
      "cell_type": "code",
      "metadata": {
        "id": "M5TMI6UY0Qii"
      },
      "source": [
        "augmented_1[1]=augmented_1[1]-augmented_1[0]\n"
      ],
      "execution_count": 275,
      "outputs": []
    },
    {
      "cell_type": "code",
      "metadata": {
        "colab": {
          "base_uri": "https://localhost:8080/"
        },
        "id": "3w_FO9jrzpgq",
        "outputId": "4fbe9458-673d-49e0-fbd0-f4b397b17e75"
      },
      "source": [
        "augmented_1"
      ],
      "execution_count": 276,
      "outputs": [
        {
          "output_type": "execute_result",
          "data": {
            "text/plain": [
              "array([[     0,  10793, 205000],\n",
              "       [ 28638,   3526, 794000]])"
            ]
          },
          "metadata": {
            "tags": []
          },
          "execution_count": 276
        }
      ]
    },
    {
      "cell_type": "code",
      "metadata": {
        "colab": {
          "base_uri": "https://localhost:8080/"
        },
        "id": "xx1AOQ0X01A8",
        "outputId": "ed875854-c545-4989-fcb0-d069bcce3b3e"
      },
      "source": [
        "augmented_1[1]=augmented_1[1]/2\n",
        "augmented_1"
      ],
      "execution_count": 277,
      "outputs": [
        {
          "output_type": "execute_result",
          "data": {
            "text/plain": [
              "array([[     0,  10793, 205000],\n",
              "       [ 14319,   1763, 397000]])"
            ]
          },
          "metadata": {
            "tags": []
          },
          "execution_count": 277
        }
      ]
    },
    {
      "cell_type": "code",
      "metadata": {
        "colab": {
          "base_uri": "https://localhost:8080/"
        },
        "id": "sNPjNwAw01Id",
        "outputId": "8da26e81-dcf4-42ac-dbc8-5bb79b2c7d2f"
      },
      "source": [
        "augmented_1[0]=augmented_1[0]/10793\n",
        "augmented_1"
      ],
      "execution_count": 278,
      "outputs": [
        {
          "output_type": "execute_result",
          "data": {
            "text/plain": [
              "array([[     0,      1,     18],\n",
              "       [ 14319,   1763, 397000]])"
            ]
          },
          "metadata": {
            "tags": []
          },
          "execution_count": 278
        }
      ]
    },
    {
      "cell_type": "code",
      "metadata": {
        "colab": {
          "base_uri": "https://localhost:8080/"
        },
        "id": "NcVbgodE5Da2",
        "outputId": "48284688-a16c-47d2-fdbe-97ce54374234"
      },
      "source": [
        "augmented_1[0]=augmented_1[0]*1763\n",
        "augmented_1"
      ],
      "execution_count": 279,
      "outputs": [
        {
          "output_type": "execute_result",
          "data": {
            "text/plain": [
              "array([[     0,   1763,  31734],\n",
              "       [ 14319,   1763, 397000]])"
            ]
          },
          "metadata": {
            "tags": []
          },
          "execution_count": 279
        }
      ]
    },
    {
      "cell_type": "code",
      "metadata": {
        "colab": {
          "base_uri": "https://localhost:8080/"
        },
        "id": "kVHYDr855Ddu",
        "outputId": "a3e4d6c0-4250-4813-ee02-4929f62fed78"
      },
      "source": [
        "augmented_1[1]=augmented_1[1]-augmented_1[0]\n",
        "augmented_1"
      ],
      "execution_count": 280,
      "outputs": [
        {
          "output_type": "execute_result",
          "data": {
            "text/plain": [
              "array([[     0,   1763,  31734],\n",
              "       [ 14319,      0, 365266]])"
            ]
          },
          "metadata": {
            "tags": []
          },
          "execution_count": 280
        }
      ]
    },
    {
      "cell_type": "code",
      "metadata": {
        "colab": {
          "base_uri": "https://localhost:8080/"
        },
        "id": "Vz5IaLxv5Df-",
        "outputId": "e13cbf34-9ab5-4727-a0a6-ddaa472afc3c"
      },
      "source": [
        "augmented_1[0]=augmented_1[0]/1763\n",
        "augmented_1[1]=augmented_1[1]/14319\n",
        "augmented_1"
      ],
      "execution_count": 281,
      "outputs": [
        {
          "output_type": "execute_result",
          "data": {
            "text/plain": [
              "array([[ 0,  1, 18],\n",
              "       [ 1,  0, 25]])"
            ]
          },
          "metadata": {
            "tags": []
          },
          "execution_count": 281
        }
      ]
    },
    {
      "cell_type": "code",
      "metadata": {
        "id": "BkcRm_WP68DM",
        "colab": {
          "base_uri": "https://localhost:8080/"
        },
        "outputId": "c6c40971-0f19-4e48-e8c3-0dc128afee06"
      },
      "source": [
        "# print den færdige matrix i reduceret række-echelon form\n",
        "augmented_1"
      ],
      "execution_count": 282,
      "outputs": [
        {
          "output_type": "execute_result",
          "data": {
            "text/plain": [
              "array([[ 0,  1, 18],\n",
              "       [ 1,  0, 25]])"
            ]
          },
          "metadata": {
            "tags": []
          },
          "execution_count": 282
        }
      ]
    },
    {
      "cell_type": "markdown",
      "metadata": {
        "id": "sLbnjK-vMs5M"
      },
      "source": [
        "#### Løsning af matrixligningen\n",
        "\n",
        "Vi kan finde en løsning til vores ligningssystem ved at løse matrixligningen $A\\vec{x} = \\vec{b}$\n",
        "Opgaven er mere frit og du skal vise, at du selv kan udføre alle trin.\n",
        "Du skal finde løsningen \"manuelt\" dvs. ikke ved at bruge `scipy.linalg.solve` eller sympy. Du må dog gerne bruge det for at tjekke, om dine beregninger passer...\n",
        "\n",
        "\n",
        "Du skal bruge følgende python objekter:\n",
        "\n",
        "\n",
        "*   $A$: `matrix_a`\n",
        "*   $A^{-1}$: `matrix_a_inv`\n",
        "*   $\\vec{b}$: `vector_b`\n",
        "* $\\vec{x}$: `vector_x`\n",
        "\n"
      ]
    },
    {
      "cell_type": "code",
      "metadata": {
        "id": "FMy2Vq2yHEbv"
      },
      "source": [
        "# 1.4.1\n",
        "\n",
        "# definer matrix A\n",
        "matrix_a = np.asarray([[43, 86,], [ 292, 333]])\n",
        "\n",
        "# definer vector b\n",
        "vector_b = np.array([ 3000, 14000])"
      ],
      "execution_count": 300,
      "outputs": []
    },
    {
      "cell_type": "code",
      "metadata": {
        "colab": {
          "base_uri": "https://localhost:8080/"
        },
        "id": "huf3Zy5RUAXu",
        "outputId": "259cc28a-7068-4da6-eab5-b9ea5552fcc8"
      },
      "source": [
        "matrix_a"
      ],
      "execution_count": 296,
      "outputs": [
        {
          "output_type": "execute_result",
          "data": {
            "text/plain": [
              "array([[ 43,  86],\n",
              "       [292, 333]])"
            ]
          },
          "metadata": {
            "tags": []
          },
          "execution_count": 296
        }
      ]
    },
    {
      "cell_type": "code",
      "metadata": {
        "colab": {
          "base_uri": "https://localhost:8080/"
        },
        "id": "IenyldO-UCjY",
        "outputId": "fab36d4d-22c8-43be-e939-ed22a1056fce"
      },
      "source": [
        "vector_b"
      ],
      "execution_count": 301,
      "outputs": [
        {
          "output_type": "execute_result",
          "data": {
            "text/plain": [
              "array([ 3000, 14000])"
            ]
          },
          "metadata": {
            "tags": []
          },
          "execution_count": 301
        }
      ]
    },
    {
      "cell_type": "code",
      "metadata": {
        "id": "PlOHS8sW3EiO",
        "colab": {
          "base_uri": "https://localhost:8080/"
        },
        "outputId": "b72fbe0a-cbda-490e-a676-fd3233a047db"
      },
      "source": [
        "# beregn A^-1\n",
        "matrix_a_inv = np.linalg.inv(matrix_a)\n",
        "print(matrix_a_inv)"
      ],
      "execution_count": 299,
      "outputs": [
        {
          "output_type": "stream",
          "text": [
            "[[-0.03085333  0.00796813]\n",
            " [ 0.02705457 -0.00398406]]\n"
          ],
          "name": "stdout"
        }
      ]
    },
    {
      "cell_type": "code",
      "metadata": {
        "id": "8xjJFgrm9QR7"
      },
      "source": [
        "# 1.4.2\n",
        "# beregn vector_x\n",
        "vector_x = \n",
        "print(vector_x)"
      ],
      "execution_count": null,
      "outputs": []
    },
    {
      "cell_type": "code",
      "metadata": {
        "id": "Lw1wR4qO3cbi"
      },
      "source": [
        "# 1.5: Beregn de daglige indtægter ved optimal produktion\n",
        "# husk at runde ned\n",
        "\n",
        "qLatte =\n",
        "qCappuccino =\n",
        "\n",
        "result = \n",
        "\n",
        "print(\"vores indtægter per dag ved optimal produktion er DKK\", result)"
      ],
      "execution_count": null,
      "outputs": []
    },
    {
      "cell_type": "code",
      "metadata": {
        "id": "m7-CybsX9st-"
      },
      "source": [
        "# 1.6: Beregn hvor meget tid baristaen bruger på at lave \n",
        "# Latte og Luksus Cappuccino ved optimal produktion\n",
        "# husk at runde ned\n",
        "\n",
        "time = \n",
        "print(time)"
      ],
      "execution_count": null,
      "outputs": []
    },
    {
      "cell_type": "markdown",
      "metadata": {
        "id": "HmosrHaURv3o"
      },
      "source": [
        "## Indsutri og profitmaksimering\n",
        "\n",
        "![](https://source.unsplash.com/SLIFI67jv5k)"
      ]
    },
    {
      "cell_type": "markdown",
      "metadata": {
        "id": "g6Nc5aTCTxtT"
      },
      "source": [
        "En mindre Nordjysk virksomhed producerer komponenter til landbrugsmaskiner og vil gerne se, om de muligvis skal justere deres daglige produktionskapacitet. \n",
        "$q$ er mængden af disse komponenter, $p$ en angivet i kr. pr. enhed.\n",
        "\n",
        "* Deres omkostningsfunktion er:\n",
        "$C(q) = 4000-25q+0.05q^{2}+0.000067q^{3}$\n",
        "* Efterspørgslen er givet som:\n",
        "$p(q) = 320+0.017q-0.0008q^{2}$ dvs. prisen er ikke konstant men ændrer sig (lidt) med ændringer af $q$\n"
      ]
    },
    {
      "cell_type": "code",
      "metadata": {
        "id": "4uirDHb0XGoi"
      },
      "source": [
        "# 2.1 Definer symboler p, q og h\n",
        "\n",
        "p, q, h = symbols('p, q, h')"
      ],
      "execution_count": 302,
      "outputs": []
    },
    {
      "cell_type": "code",
      "metadata": {
        "id": "nKYXu2Y0nsZl"
      },
      "source": [
        "# opstil ligninger for omkostinger og efterspørgsel\n",
        "\n",
        "C_q = 4000 - 25*q + (0.5*q**2) + (0.000067*q**3)\n",
        "\n",
        "p_q = 320+(0.017*q)-(0.0008*q**2)"
      ],
      "execution_count": 336,
      "outputs": []
    },
    {
      "cell_type": "code",
      "metadata": {
        "id": "hI-HO_RRnsZl",
        "colab": {
          "base_uri": "https://localhost:8080/",
          "height": 38
        },
        "outputId": "f1a71c7a-69fa-4fd1-f042-e44a89f24800"
      },
      "source": [
        "# print\n",
        "C_q"
      ],
      "execution_count": 337,
      "outputs": [
        {
          "output_type": "execute_result",
          "data": {
            "text/latex": "$\\displaystyle 6.7 \\cdot 10^{-5} q^{3} + 0.5 q^{2} - 25 q + 4000$",
            "text/plain": [
              "6.7e-5*q**3 + 0.5*q**2 - 25*q + 4000"
            ]
          },
          "metadata": {
            "tags": []
          },
          "execution_count": 337
        }
      ]
    },
    {
      "cell_type": "code",
      "metadata": {
        "id": "rSe_2Ir3nsZm",
        "colab": {
          "base_uri": "https://localhost:8080/",
          "height": 38
        },
        "outputId": "1a81f2d1-07f4-4647-eeab-176a533f24fc"
      },
      "source": [
        "p_q"
      ],
      "execution_count": 313,
      "outputs": [
        {
          "output_type": "execute_result",
          "data": {
            "text/latex": "$\\displaystyle - 0.0008 q^{2} + 0.017 q + 320$",
            "text/plain": [
              "-0.0008*q**2 + 0.017*q + 320"
            ]
          },
          "metadata": {
            "tags": []
          },
          "execution_count": 313
        }
      ]
    },
    {
      "cell_type": "code",
      "metadata": {
        "id": "_Wca9rKbYn-6",
        "colab": {
          "base_uri": "https://localhost:8080/",
          "height": 297
        },
        "outputId": "329bdac4-9eba-44a4-84ee-74e0f45154d8"
      },
      "source": [
        "# 2.2 plot C(q)\n",
        "\n",
        "# definer 200 punkter mellem 0 og 500 med np.linspace i objektet q_plot\n",
        "\n",
        "q_plot = np.linspace(0, 500, num=200)\n",
        "C_q = 4000 - 25*q + (0.5*q**2) + (0.000067*q**3)\n",
        "C_q_plot =np.linspace(0, 500, num=200)\n",
        "# beregn tilsvarende p-værdier og plot\n",
        "\n",
        "p_plot_1 = np.linspace(0, 500, num=200)\n",
        "\n",
        "plt.xlabel('Mængde (q)')\n",
        "plt.ylabel('Kr.')\n",
        "\n",
        "plt.plot(C_q_plot , q_plot)\n",
        "\n",
        "plt.plot(p_plot_1, q_plot)\n"
      ],
      "execution_count": 367,
      "outputs": [
        {
          "output_type": "execute_result",
          "data": {
            "text/plain": [
              "[<matplotlib.lines.Line2D at 0x7f2d17aecbd0>]"
            ]
          },
          "metadata": {
            "tags": []
          },
          "execution_count": 367
        },
        {
          "output_type": "display_data",
          "data": {
            "image/png": "[encoded data removed]",
            "text/plain": [
              "<Figure size 432x288 with 1 Axes>"
            ]
          },
          "metadata": {
            "tags": [],
            "needs_background": "light"
          }
        }
      ]
    },
    {
      "cell_type": "markdown",
      "metadata": {
        "id": "_JhiXa1nmg9S"
      },
      "source": [
        "#### 2.3 Beregn minimum for $C(q)$\n",
        "\n",
        "* beregning skal foretages \"manuelt\" hvor du først skal finde $C'(q)$ ved at beregne $\\lim_{h \\to 0} \\frac{f(x + h) - f(x)}{h}$, hvor $C(q)$ indsættes for $f(x)$ dvs. $\\lim_{h \\to 0} \\frac{C(q + h) - C(q)}{h}$\n",
        "*$h$ blev allerede oprettet som Sympy sybol"
      ]
    },
    {
      "cell_type": "code",
      "metadata": {
        "id": "ZLH27aW3tVvu"
      },
      "source": [
        "import sympy "
      ],
      "execution_count": 374,
      "outputs": []
    },
    {
      "cell_type": "code",
      "metadata": {
        "id": "bDFi2pk6oKfH"
      },
      "source": [
        "# 2.3.1\n",
        "# definer C(q+h)\n",
        "C_q_h = C_q+(C_q-(4000 - 25*q + (0.5*q**2) + (0.000067*q**3))*h)"
      ],
      "execution_count": 379,
      "outputs": []
    },
    {
      "cell_type": "code",
      "metadata": {
        "id": "rBoQfrr1o3yK"
      },
      "source": [
        "# 2.3.2\n",
        "# beregn grænseværdi\n",
        "\n",
        "C_lim = limit((C_q_h-C_q)/h, h, 0)"
      ],
      "execution_count": 382,
      "outputs": []
    },
    {
      "cell_type": "code",
      "metadata": {
        "id": "w1f4PEBcpNfg",
        "colab": {
          "base_uri": "https://localhost:8080/",
          "height": 38
        },
        "outputId": "a73d4c9f-a378-4911-c9c5-a9111b303cca"
      },
      "source": [
        "# du kan tjekke, om grænseværdien er lige \n",
        "C_lim"
      ],
      "execution_count": 383,
      "outputs": [
        {
          "output_type": "execute_result",
          "data": {
            "text/latex": "$\\displaystyle \\infty \\operatorname{sign}{\\left(6.7 \\cdot 10^{-5} q^{3} + 0.5 q^{2} - 25 q + 4000 \\right)}$",
            "text/plain": [
              "oo*sign(6.7e-5*q**3 + 0.5*q**2 - 25*q + 4000)"
            ]
          },
          "metadata": {
            "tags": []
          },
          "execution_count": 383
        }
      ]
    },
    {
      "cell_type": "code",
      "metadata": {
        "id": "F4GPwN1tpVTy",
        "colab": {
          "base_uri": "https://localhost:8080/",
          "height": 38
        },
        "outputId": "ae083031-8401-48c1-9b1f-7ac28a0e7aac"
      },
      "source": [
        "# med den (automatisk) afledede funktion (sympy diff) for at være sikker...\n",
        "diff(C_q)"
      ],
      "execution_count": 384,
      "outputs": [
        {
          "output_type": "execute_result",
          "data": {
            "text/latex": "$\\displaystyle 0.000201 q^{2} + 1.0 q - 25$",
            "text/plain": [
              "0.000201*q**2 + 1.0*q - 25"
            ]
          },
          "metadata": {
            "tags": []
          },
          "execution_count": 384
        }
      ]
    },
    {
      "cell_type": "code",
      "metadata": {
        "id": "ijqZppANoKfH"
      },
      "source": [
        "# 2.3.3\n",
        "# brug Sympy solve til a finde q, hvor C minimeres\n",
        "solutions = solve(...)\n",
        "print(solutions)"
      ],
      "execution_count": null,
      "outputs": []
    },
    {
      "cell_type": "markdown",
      "metadata": {
        "id": "tr4PCWG0qmvK"
      },
      "source": [
        "#### 2.4 Profitmaksimering\n",
        "\n",
        "Derudover ved vi (f.eks. fra mikroøkonomi):\n",
        "\n",
        "* Indtægter: $R(q) = p(q) · q$\n",
        "* Profit: $P(q) = R(q) - C(q)$\n",
        "\n",
        "* Marginalomkostninger $MC = C'(q)$ (omkostninger ved at producere +1 enhed)\n",
        "* Marginalindtægter $MR = R'(q)$ (indtægter ved at sælge +1 enhed)\n",
        "* Marginalprofit $MP = P'(q)$ (profit ved at sælge +1 enhed - de omkostninger  forbundet med produktion af +1 enhed)"
      ]
    },
    {
      "cell_type": "code",
      "metadata": {
        "id": "I7aaEvU7q89C"
      },
      "source": [
        "# 2.4.1\n",
        "# Definer funktiner for indtægter R(q) og profit P(q)\n",
        "\n",
        "R_q = ...\n",
        "P_q = ...\n",
        "\n",
        "print(expand(R_q)) # her hjælper expand med læsbarheden...\n",
        "print(expand(P_q)) # her hjælper expand med læsbarheden..."
      ],
      "execution_count": null,
      "outputs": []
    },
    {
      "cell_type": "code",
      "metadata": {
        "id": "ZXNE3AxttA7S"
      },
      "source": [
        "# 2.4.2\n",
        "# Definer (ved at differentere) MC, MR og MP (brug sympy til det.)\n",
        "\n",
        "MC = ...\n",
        "MR = ...\n",
        "MP = ...\n",
        "\n",
        "# du kan printe disse ligninger og og copy-paste dem i den næste opgave (husk at erstætte q med q_plot)\n",
        "print(MC)\n",
        "print(expand(MR)) # her hjælper expand med læsbarheden...\n",
        "print(expand(MP)) # her hjælper expand med læsbarheden..."
      ],
      "execution_count": null,
      "outputs": []
    },
    {
      "cell_type": "markdown",
      "metadata": {
        "id": "S6p6Uzrx0ZSF"
      },
      "source": [
        "Vi antager, vores virksomhed har monopol på disse komponenter og dermed kan der profitmaksimeres ved at sætte $MC = MR$\n",
        "\n",
        "Vis, at mængden $q$ ved $MC = MR$ er den samme som den, hvor profit $P$ maksimeres, dvs. $MP = 0$"
      ]
    },
    {
      "cell_type": "code",
      "metadata": {
        "id": "DPKAp_OWtP8D"
      },
      "source": [
        "# 2.4.3\n",
        "# Plot MC (red) og MR (gold)\n",
        "# du kan genbruge q_plot værdier fra sidste plot\n",
        "\n",
        "plt.xlabel('Mængde (q)')\n",
        "plt.ylabel('Kr.')\n",
        "\n",
        "#beregn p_værdier\n",
        "p_plot_2 = ...\n",
        "p_plot_3 = ...\n",
        "\n",
        "\n",
        "plt.plot(...) # MC\n",
        "plt.plot(...) # MR"
      ],
      "execution_count": null,
      "outputs": []
    },
    {
      "cell_type": "code",
      "metadata": {
        "id": "bkyO6cit13ez"
      },
      "source": [
        "# 2.4.4\n",
        "# Definer MC = p og MR = p som Sympy ligninger\n",
        "# p er allerede defineret som symbol (tidligere)\n",
        "\n",
        "MC_eq = Eq(...,...)\n",
        "MR_eq = ..."
      ],
      "execution_count": null,
      "outputs": []
    },
    {
      "cell_type": "code",
      "metadata": {
        "id": "Wgsl3r4W2b8Q"
      },
      "source": [
        "# brug sympy solve til at finde løsninger for MC = MR\n",
        "solve([...,...])"
      ],
      "execution_count": null,
      "outputs": []
    },
    {
      "cell_type": "code",
      "metadata": {
        "id": "qA0BLWHA232e"
      },
      "source": [
        "q_monopoly = ... # copy-paste den realistiske q-værdi"
      ],
      "execution_count": null,
      "outputs": []
    },
    {
      "cell_type": "code",
      "metadata": {
        "id": "ivhAulVi3Aq0"
      },
      "source": [
        "# 2.4.5\n",
        "# beregn max-værdien for profit-funktionen\n",
        "\n",
        "solve(...)"
      ],
      "execution_count": null,
      "outputs": []
    }
  ]
}